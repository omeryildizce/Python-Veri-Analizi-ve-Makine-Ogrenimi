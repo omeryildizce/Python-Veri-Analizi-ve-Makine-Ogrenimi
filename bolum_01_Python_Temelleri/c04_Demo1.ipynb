{
 "cells": [
  {
   "cell_type": "markdown",
   "metadata": {},
   "source": [
    "##### Soru1: x ve y değerlerinin yerini değiştirin."
   ]
  },
  {
   "cell_type": "code",
   "execution_count": 4,
   "metadata": {},
   "outputs": [],
   "source": [
    "x = 10\n",
    "y = 20"
   ]
  },
  {
   "cell_type": "code",
   "execution_count": 5,
   "metadata": {},
   "outputs": [],
   "source": [
    "deger = x\n",
    "x = y\n",
    "y = deger"
   ]
  },
  {
   "cell_type": "code",
   "execution_count": 8,
   "metadata": {},
   "outputs": [
    {
     "name": "stdout",
     "output_type": "stream",
     "text": [
      "X = 20\n",
      "Y = 10\n"
     ]
    }
   ],
   "source": [
    "print(f\"X = {x}\")\n",
    "print(f\"Y = {y}\")"
   ]
  },
  {
   "cell_type": "code",
   "execution_count": 9,
   "metadata": {},
   "outputs": [],
   "source": [
    "x ,y = y,x"
   ]
  },
  {
   "cell_type": "code",
   "execution_count": 10,
   "metadata": {},
   "outputs": [
    {
     "name": "stdout",
     "output_type": "stream",
     "text": [
      "X = 10\n",
      "Y = 20\n"
     ]
    }
   ],
   "source": [
    "print(f\"X = {x}\")\n",
    "print(f\"Y = {y}\")"
   ]
  },
  {
   "cell_type": "markdown",
   "metadata": {},
   "source": [
    "##### Soru 2: Kullanıcıdan alınan kilometreyi mil değerine çevirin.\n",
    "* 1 km = 0,621371192 mil"
   ]
  },
  {
   "cell_type": "code",
   "execution_count": 13,
   "metadata": {},
   "outputs": [
    {
     "name": "stdout",
     "output_type": "stream",
     "text": [
      "4000.0 kilometre = 2485.4847680000003 mil.\n"
     ]
    }
   ],
   "source": [
    "kilometre = float(input(\"Kilometre değerini giriniz\"))\n",
    "km_to_mil =  0.621371192\n",
    "mil = km_to_mil * kilometre\n",
    "print(f\"{kilometre} kilometre = {mil} mil.\")"
   ]
  },
  {
   "cell_type": "code",
   "execution_count": null,
   "metadata": {},
   "outputs": [],
   "source": []
  }
 ],
 "metadata": {
  "kernelspec": {
   "display_name": "Python 3.10.5 64-bit",
   "language": "python",
   "name": "python3"
  },
  "language_info": {
   "codemirror_mode": {
    "name": "ipython",
    "version": 3
   },
   "file_extension": ".py",
   "mimetype": "text/x-python",
   "name": "python",
   "nbconvert_exporter": "python",
   "pygments_lexer": "ipython3",
   "version": "3.10.5"
  },
  "orig_nbformat": 4,
  "vscode": {
   "interpreter": {
    "hash": "b885c526da3326e581d3a88563282ab625602807b12d7b4af8a2a7f32a015837"
   }
  }
 },
 "nbformat": 4,
 "nbformat_minor": 2
}
