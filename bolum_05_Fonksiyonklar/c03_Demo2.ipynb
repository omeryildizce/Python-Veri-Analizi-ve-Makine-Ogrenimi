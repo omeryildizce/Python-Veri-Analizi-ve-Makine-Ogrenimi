{
 "cells": [
  {
   "cell_type": "code",
   "execution_count": 92,
   "metadata": {},
   "outputs": [],
   "source": [
    "matrisA = [\n",
    "    [1, 3, 5],\n",
    "    [2, 4, 1],\n",
    "    [1, 5, 7]\n",
    "]\n",
    "matrisB = [\n",
    "    [3, 3, 4],\n",
    "    [2, 4, 1],\n",
    "    [3, 5, 4]\n",
    "]\n"
   ]
  },
  {
   "cell_type": "code",
   "execution_count": 93,
   "metadata": {},
   "outputs": [],
   "source": [
    "def matrisTopla(a,b,shapex, shapey):\n",
    "    topla = []\n",
    "    for i in range(shapex):\n",
    "        for j in range(shapey):\n",
    "            topla.append( a[i][j] + b[i][j])\n",
    "    return topla\n",
    "\n",
    "def yazdir(sonuc, shapey):\n",
    "    for i in range(0,len(sonuc)):\n",
    "        print(f\"{sonuc[i]:3}\", end=\" \")\n",
    "        if  i % shapey == shapey-1:\n",
    "            print()"
   ]
  },
  {
   "cell_type": "code",
   "execution_count": 94,
   "metadata": {},
   "outputs": [
    {
     "name": "stdout",
     "output_type": "stream",
     "text": [
      "  4   6   9 \n",
      "  4   8   2 \n",
      "  4  10  11 \n"
     ]
    }
   ],
   "source": [
    "sonuc = matrisTopla(matrisA,matrisB,3,3)\n",
    "yazdir(sonuc, 3)"
   ]
  },
  {
   "cell_type": "code",
   "execution_count": 95,
   "metadata": {},
   "outputs": [],
   "source": [
    "matrisA = [\n",
    "    [ 1,  3,  5,  3],\n",
    "    [ 3, 41, 21, 13],\n",
    "    [12, 45, 37, 23],\n",
    "    [71, 85, 47, 23],\n",
    "    [12, 25, 71, 73],\n",
    "]\n",
    "\n",
    "matrisB = [\n",
    "    [31, 32, 41, 13],\n",
    "    [27, 74, 11, 23],\n",
    "    [37, 45, 45, 73],\n",
    "    [34, 57, 74, 13],\n",
    "    [32, 45, 84, 13],\n",
    "]\n"
   ]
  },
  {
   "cell_type": "code",
   "execution_count": 96,
   "metadata": {},
   "outputs": [
    {
     "name": "stdout",
     "output_type": "stream",
     "text": [
      " 32  35  46  16 \n",
      " 30 115  32  36 \n",
      " 49  90  82  96 \n",
      "105 142 121  36 \n",
      " 44  70 155  86 \n"
     ]
    }
   ],
   "source": [
    "sonuc = matrisTopla(matrisA,matrisB,5,4)\n",
    "yazdir(sonuc, 4)"
   ]
  },
  {
   "cell_type": "code",
   "execution_count": null,
   "metadata": {},
   "outputs": [],
   "source": []
  }
 ],
 "metadata": {
  "kernelspec": {
   "display_name": "Python 3.10.5 64-bit",
   "language": "python",
   "name": "python3"
  },
  "language_info": {
   "codemirror_mode": {
    "name": "ipython",
    "version": 3
   },
   "file_extension": ".py",
   "mimetype": "text/x-python",
   "name": "python",
   "nbconvert_exporter": "python",
   "pygments_lexer": "ipython3",
   "version": "3.10.5"
  },
  "orig_nbformat": 4,
  "vscode": {
   "interpreter": {
    "hash": "b885c526da3326e581d3a88563282ab625602807b12d7b4af8a2a7f32a015837"
   }
  }
 },
 "nbformat": 4,
 "nbformat_minor": 2
}
