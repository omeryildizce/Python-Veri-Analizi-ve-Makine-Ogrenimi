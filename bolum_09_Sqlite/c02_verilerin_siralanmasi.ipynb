{
 "cells": [
  {
   "cell_type": "code",
   "execution_count": 1,
   "metadata": {},
   "outputs": [],
   "source": [
    "import sqlite3"
   ]
  },
  {
   "cell_type": "code",
   "execution_count": 10,
   "metadata": {},
   "outputs": [
    {
     "name": "stdout",
     "output_type": "stream",
     "text": [
      "Firstname: Dan       Lastname: Miller\n",
      "Firstname: Frank     Lastname: Harris\n",
      "Firstname: Frank     Lastname: Ralston\n",
      "Firstname: Fynn      Lastname: Zimmermann\n",
      "Firstname: Hannah    Lastname: Schneider\n",
      "Firstname: Heather   Lastname: Leacock\n",
      "Firstname: Jack      Lastname: Smith\n",
      "Firstname: John      Lastname: Gordon\n",
      "Firstname: Julia     Lastname: Barnett\n",
      "Firstname: Kathy     Lastname: Chase\n",
      "Firstname: Leonie    Lastname: Köhler\n",
      "Firstname: Michelle  Lastname: Brooks\n",
      "Firstname: Niklas    Lastname: Schröder\n",
      "Firstname: Patrick   Lastname: Gray\n",
      "Firstname: Richard   Lastname: Cunningham\n",
      "Firstname: Tim       Lastname: Goyer\n",
      "Firstname: Victor    Lastname: Stevens\n"
     ]
    }
   ],
   "source": [
    "connection = sqlite3.connect(\"chinook.db\")\n",
    "cursor = connection.execute(\"\"\"\n",
    "    select FirstName, LastName from Customers\n",
    "    where Country = \"USA\" or Country = \"Germany\"\n",
    "    order by FirstName asc\n",
    "\"\"\")\n",
    "\n",
    "for row in cursor:\n",
    "    print(\"Firstname: {:10}\".format(row[0]), end=\"\")\n",
    "    print(\"Lastname: {}\".format(row[1]))\n",
    "\n",
    "connection.close()"
   ]
  },
  {
   "cell_type": "code",
   "execution_count": 11,
   "metadata": {},
   "outputs": [
    {
     "name": "stdout",
     "output_type": "stream",
     "text": [
      "Firstname: Victor    Lastname: Stevens\n",
      "Firstname: Tim       Lastname: Goyer\n",
      "Firstname: Richard   Lastname: Cunningham\n",
      "Firstname: Patrick   Lastname: Gray\n",
      "Firstname: Niklas    Lastname: Schröder\n",
      "Firstname: Michelle  Lastname: Brooks\n",
      "Firstname: Leonie    Lastname: Köhler\n",
      "Firstname: Kathy     Lastname: Chase\n",
      "Firstname: Julia     Lastname: Barnett\n",
      "Firstname: John      Lastname: Gordon\n",
      "Firstname: Jack      Lastname: Smith\n",
      "Firstname: Heather   Lastname: Leacock\n",
      "Firstname: Hannah    Lastname: Schneider\n",
      "Firstname: Fynn      Lastname: Zimmermann\n",
      "Firstname: Frank     Lastname: Harris\n",
      "Firstname: Frank     Lastname: Ralston\n",
      "Firstname: Dan       Lastname: Miller\n"
     ]
    }
   ],
   "source": [
    "connection = sqlite3.connect(\"chinook.db\")\n",
    "cursor = connection.execute(\"\"\"\n",
    "    select FirstName, LastName from Customers\n",
    "    where Country = \"USA\" or Country = \"Germany\"\n",
    "    order by FirstName desc\n",
    "\"\"\")\n",
    "\n",
    "for row in cursor:\n",
    "    print(\"Firstname: {:10}\".format(row[0]), end=\"\")\n",
    "    print(\"Lastname: {}\".format(row[1]))\n",
    "\n",
    "connection.close()"
   ]
  },
  {
   "cell_type": "code",
   "execution_count": null,
   "metadata": {},
   "outputs": [],
   "source": []
  }
 ],
 "metadata": {
  "kernelspec": {
   "display_name": "Python 3.10.5 64-bit",
   "language": "python",
   "name": "python3"
  },
  "language_info": {
   "codemirror_mode": {
    "name": "ipython",
    "version": 3
   },
   "file_extension": ".py",
   "mimetype": "text/x-python",
   "name": "python",
   "nbconvert_exporter": "python",
   "pygments_lexer": "ipython3",
   "version": "3.10.5"
  },
  "orig_nbformat": 4,
  "vscode": {
   "interpreter": {
    "hash": "b885c526da3326e581d3a88563282ab625602807b12d7b4af8a2a7f32a015837"
   }
  }
 },
 "nbformat": 4,
 "nbformat_minor": 2
}
