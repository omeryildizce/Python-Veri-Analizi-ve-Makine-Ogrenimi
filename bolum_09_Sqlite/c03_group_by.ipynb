{
 "cells": [
  {
   "cell_type": "code",
   "execution_count": 1,
   "metadata": {},
   "outputs": [],
   "source": [
    "import sqlite3"
   ]
  },
  {
   "cell_type": "code",
   "execution_count": 17,
   "metadata": {},
   "outputs": [
    {
     "name": "stdout",
     "output_type": "stream",
     "text": [
      "Count: 13 Country: USA\n",
      "Count:  8 Country: Canada\n",
      "Count:  5 Country: France\n",
      "Count:  5 Country: Brazil\n",
      "Count:  4 Country: Germany\n",
      "Count:  3 Country: United Kingdom\n",
      "Count:  2 Country: Portugal\n",
      "Count:  2 Country: India\n",
      "Count:  2 Country: Czech Republic\n",
      "Count:  1 Country: Sweden\n",
      "Count:  1 Country: Spain\n",
      "Count:  1 Country: Poland\n",
      "Count:  1 Country: Norway\n",
      "Count:  1 Country: Netherlands\n",
      "Count:  1 Country: Italy\n",
      "Count:  1 Country: Ireland\n",
      "Count:  1 Country: Hungary\n",
      "Count:  1 Country: Finland\n",
      "Count:  1 Country: Denmark\n",
      "Count:  1 Country: Chile\n",
      "Count:  1 Country: Belgium\n",
      "Count:  1 Country: Austria\n",
      "Count:  1 Country: Australia\n",
      "Count:  1 Country: Argentina\n"
     ]
    }
   ],
   "source": [
    "connection = sqlite3.connect(\"chinook.db\")\n",
    "cursor = connection.execute(\"\"\"\n",
    "    select Country, Count(*) from Customers\n",
    "    group by Country\n",
    "    order by count(*) desc\n",
    "\"\"\")\n",
    "\n",
    "for row in cursor:\n",
    "    print(\"Count: {:2}\".format(row[1]) , end=\" \")\n",
    "    print(\"Country: {}\".format(row[0]))\n",
    "\n",
    "connection.close()"
   ]
  },
  {
   "cell_type": "code",
   "execution_count": 18,
   "metadata": {},
   "outputs": [
    {
     "name": "stdout",
     "output_type": "stream",
     "text": [
      "Count: 13 Country: USA\n",
      "Count:  8 Country: Canada\n",
      "Count:  5 Country: France\n",
      "Count:  5 Country: Brazil\n",
      "Count:  4 Country: Germany\n",
      "Count:  3 Country: United Kingdom\n",
      "Count:  2 Country: Portugal\n",
      "Count:  2 Country: India\n",
      "Count:  2 Country: Czech Republic\n"
     ]
    }
   ],
   "source": [
    "connection = sqlite3.connect(\"chinook.db\")\n",
    "cursor = connection.execute(\"\"\"\n",
    "    select Country, Count(*) from Customers\n",
    "    group by Country having count(*) > 1\n",
    "    order by count(*) desc\n",
    "\"\"\")\n",
    "\n",
    "for row in cursor:\n",
    "    print(\"Count: {:2}\".format(row[1]) , end=\" \")\n",
    "    print(\"Country: {}\".format(row[0]))\n",
    "\n",
    "connection.close()"
   ]
  },
  {
   "cell_type": "code",
   "execution_count": null,
   "metadata": {},
   "outputs": [],
   "source": []
  }
 ],
 "metadata": {
  "kernelspec": {
   "display_name": "Python 3.10.5 64-bit",
   "language": "python",
   "name": "python3"
  },
  "language_info": {
   "codemirror_mode": {
    "name": "ipython",
    "version": 3
   },
   "file_extension": ".py",
   "mimetype": "text/x-python",
   "name": "python",
   "nbconvert_exporter": "python",
   "pygments_lexer": "ipython3",
   "version": "3.10.5"
  },
  "orig_nbformat": 4,
  "vscode": {
   "interpreter": {
    "hash": "b885c526da3326e581d3a88563282ab625602807b12d7b4af8a2a7f32a015837"
   }
  }
 },
 "nbformat": 4,
 "nbformat_minor": 2
}
