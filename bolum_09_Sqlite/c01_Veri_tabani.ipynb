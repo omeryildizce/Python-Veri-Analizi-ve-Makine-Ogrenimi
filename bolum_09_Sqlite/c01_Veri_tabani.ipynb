{
 "cells": [
  {
   "cell_type": "markdown",
   "metadata": {},
   "source": [
    "# Sqlite"
   ]
  },
  {
   "cell_type": "code",
   "execution_count": 13,
   "metadata": {},
   "outputs": [],
   "source": [
    "import sqlite3"
   ]
  },
  {
   "cell_type": "code",
   "execution_count": 14,
   "metadata": {},
   "outputs": [],
   "source": [
    "connection = sqlite3.connect(\"chinook.db\")"
   ]
  },
  {
   "cell_type": "code",
   "execution_count": 15,
   "metadata": {},
   "outputs": [],
   "source": [
    "cursor = connection.execute(\"\"\" \n",
    "select * from Customers\n",
    "\"\"\")"
   ]
  },
  {
   "cell_type": "code",
   "execution_count": 16,
   "metadata": {},
   "outputs": [
    {
     "name": "stdout",
     "output_type": "stream",
     "text": [
      "Firstname: Luís\n",
      "Firstname: Leonie\n",
      "Firstname: François\n",
      "Firstname: Bjørn\n",
      "Firstname: František\n",
      "Firstname: Helena\n",
      "Firstname: Astrid\n",
      "Firstname: Daan\n",
      "Firstname: Kara\n",
      "Firstname: Eduardo\n",
      "Firstname: Alexandre\n",
      "Firstname: Roberto\n",
      "Firstname: Fernanda\n",
      "Firstname: Mark\n",
      "Firstname: Jennifer\n",
      "Firstname: Frank\n",
      "Firstname: Jack\n",
      "Firstname: Michelle\n",
      "Firstname: Tim\n",
      "Firstname: Dan\n",
      "Firstname: Kathy\n",
      "Firstname: Heather\n",
      "Firstname: John\n",
      "Firstname: Frank\n",
      "Firstname: Victor\n",
      "Firstname: Richard\n",
      "Firstname: Patrick\n",
      "Firstname: Julia\n",
      "Firstname: Robert\n",
      "Firstname: Edward\n",
      "Firstname: Martha\n",
      "Firstname: Aaron\n",
      "Firstname: Ellie\n",
      "Firstname: João\n",
      "Firstname: Madalena\n",
      "Firstname: Hannah\n",
      "Firstname: Fynn\n",
      "Firstname: Niklas\n",
      "Firstname: Camille\n",
      "Firstname: Dominique\n",
      "Firstname: Marc\n",
      "Firstname: Wyatt\n",
      "Firstname: Isabelle\n",
      "Firstname: Terhi\n",
      "Firstname: Ladislav\n",
      "Firstname: Hugh\n",
      "Firstname: Lucas\n",
      "Firstname: Johannes\n",
      "Firstname: Stanisław\n",
      "Firstname: Enrique\n",
      "Firstname: Joakim\n",
      "Firstname: Emma\n",
      "Firstname: Phil\n",
      "Firstname: Steve\n",
      "Firstname: Mark\n",
      "Firstname: Diego\n",
      "Firstname: Luis\n",
      "Firstname: Manoj\n",
      "Firstname: Puja\n"
     ]
    }
   ],
   "source": [
    "for row in cursor:\n",
    "    print(\"Firstname: {}\".format(row[1]))"
   ]
  },
  {
   "cell_type": "code",
   "execution_count": 18,
   "metadata": {},
   "outputs": [],
   "source": [
    "connection.close()"
   ]
  },
  {
   "cell_type": "code",
   "execution_count": 32,
   "metadata": {},
   "outputs": [],
   "source": [
    "connection = sqlite3.connect(\"chinook.db\")"
   ]
  },
  {
   "cell_type": "code",
   "execution_count": 33,
   "metadata": {},
   "outputs": [],
   "source": [
    "cursor = connection.execute(\"\"\" \n",
    "select FirstName from Customers\n",
    "\"\"\")"
   ]
  },
  {
   "cell_type": "code",
   "execution_count": 34,
   "metadata": {},
   "outputs": [
    {
     "name": "stdout",
     "output_type": "stream",
     "text": [
      "Firstname: Luís\n",
      "Firstname: Leonie\n",
      "Firstname: François\n",
      "Firstname: Bjørn\n",
      "Firstname: František\n",
      "Firstname: Helena\n",
      "Firstname: Astrid\n",
      "Firstname: Daan\n",
      "Firstname: Kara\n",
      "Firstname: Eduardo\n",
      "Firstname: Alexandre\n",
      "Firstname: Roberto\n",
      "Firstname: Fernanda\n",
      "Firstname: Mark\n",
      "Firstname: Jennifer\n",
      "Firstname: Frank\n",
      "Firstname: Jack\n",
      "Firstname: Michelle\n",
      "Firstname: Tim\n",
      "Firstname: Dan\n",
      "Firstname: Kathy\n",
      "Firstname: Heather\n",
      "Firstname: John\n",
      "Firstname: Frank\n",
      "Firstname: Victor\n",
      "Firstname: Richard\n",
      "Firstname: Patrick\n",
      "Firstname: Julia\n",
      "Firstname: Robert\n",
      "Firstname: Edward\n",
      "Firstname: Martha\n",
      "Firstname: Aaron\n",
      "Firstname: Ellie\n",
      "Firstname: João\n",
      "Firstname: Madalena\n",
      "Firstname: Hannah\n",
      "Firstname: Fynn\n",
      "Firstname: Niklas\n",
      "Firstname: Camille\n",
      "Firstname: Dominique\n",
      "Firstname: Marc\n",
      "Firstname: Wyatt\n",
      "Firstname: Isabelle\n",
      "Firstname: Terhi\n",
      "Firstname: Ladislav\n",
      "Firstname: Hugh\n",
      "Firstname: Lucas\n",
      "Firstname: Johannes\n",
      "Firstname: Stanisław\n",
      "Firstname: Enrique\n",
      "Firstname: Joakim\n",
      "Firstname: Emma\n",
      "Firstname: Phil\n",
      "Firstname: Steve\n",
      "Firstname: Mark\n",
      "Firstname: Diego\n",
      "Firstname: Luis\n",
      "Firstname: Manoj\n",
      "Firstname: Puja\n"
     ]
    }
   ],
   "source": [
    "for row in cursor:\n",
    "    print(\"Firstname: {}\".format(row[0]))"
   ]
  },
  {
   "cell_type": "code",
   "execution_count": 35,
   "metadata": {},
   "outputs": [],
   "source": [
    "connection.close()"
   ]
  },
  {
   "cell_type": "code",
   "execution_count": 38,
   "metadata": {},
   "outputs": [
    {
     "name": "stdout",
     "output_type": "stream",
     "text": [
      "Firstname: Luís            Lastname: Gonçalves      \n",
      "Firstname: Leonie          Lastname: Köhler         \n",
      "Firstname: François        Lastname: Tremblay       \n",
      "Firstname: Bjørn           Lastname: Hansen         \n",
      "Firstname: František       Lastname: Wichterlová    \n",
      "Firstname: Helena          Lastname: Holý           \n",
      "Firstname: Astrid          Lastname: Gruber         \n",
      "Firstname: Daan            Lastname: Peeters        \n",
      "Firstname: Kara            Lastname: Nielsen        \n",
      "Firstname: Eduardo         Lastname: Martins        \n",
      "Firstname: Alexandre       Lastname: Rocha          \n",
      "Firstname: Roberto         Lastname: Almeida        \n",
      "Firstname: Fernanda        Lastname: Ramos          \n",
      "Firstname: Mark            Lastname: Philips        \n",
      "Firstname: Jennifer        Lastname: Peterson       \n",
      "Firstname: Frank           Lastname: Harris         \n",
      "Firstname: Jack            Lastname: Smith          \n",
      "Firstname: Michelle        Lastname: Brooks         \n",
      "Firstname: Tim             Lastname: Goyer          \n",
      "Firstname: Dan             Lastname: Miller         \n",
      "Firstname: Kathy           Lastname: Chase          \n",
      "Firstname: Heather         Lastname: Leacock        \n",
      "Firstname: John            Lastname: Gordon         \n",
      "Firstname: Frank           Lastname: Ralston        \n",
      "Firstname: Victor          Lastname: Stevens        \n",
      "Firstname: Richard         Lastname: Cunningham     \n",
      "Firstname: Patrick         Lastname: Gray           \n",
      "Firstname: Julia           Lastname: Barnett        \n",
      "Firstname: Robert          Lastname: Brown          \n",
      "Firstname: Edward          Lastname: Francis        \n",
      "Firstname: Martha          Lastname: Silk           \n",
      "Firstname: Aaron           Lastname: Mitchell       \n",
      "Firstname: Ellie           Lastname: Sullivan       \n",
      "Firstname: João            Lastname: Fernandes      \n",
      "Firstname: Madalena        Lastname: Sampaio        \n",
      "Firstname: Hannah          Lastname: Schneider      \n",
      "Firstname: Fynn            Lastname: Zimmermann     \n",
      "Firstname: Niklas          Lastname: Schröder       \n",
      "Firstname: Camille         Lastname: Bernard        \n",
      "Firstname: Dominique       Lastname: Lefebvre       \n",
      "Firstname: Marc            Lastname: Dubois         \n",
      "Firstname: Wyatt           Lastname: Girard         \n",
      "Firstname: Isabelle        Lastname: Mercier        \n",
      "Firstname: Terhi           Lastname: Hämäläinen     \n",
      "Firstname: Ladislav        Lastname: Kovács         \n",
      "Firstname: Hugh            Lastname: O'Reilly       \n",
      "Firstname: Lucas           Lastname: Mancini        \n",
      "Firstname: Johannes        Lastname: Van der Berg   \n",
      "Firstname: Stanisław       Lastname: Wójcik         \n",
      "Firstname: Enrique         Lastname: Muñoz          \n",
      "Firstname: Joakim          Lastname: Johansson      \n",
      "Firstname: Emma            Lastname: Jones          \n",
      "Firstname: Phil            Lastname: Hughes         \n",
      "Firstname: Steve           Lastname: Murray         \n",
      "Firstname: Mark            Lastname: Taylor         \n",
      "Firstname: Diego           Lastname: Gutiérrez      \n",
      "Firstname: Luis            Lastname: Rojas          \n",
      "Firstname: Manoj           Lastname: Pareek         \n",
      "Firstname: Puja            Lastname: Srivastava     \n"
     ]
    }
   ],
   "source": [
    "connection = sqlite3.connect(\"chinook.db\")\n",
    "cursor = connection.execute(\"\"\" \n",
    "select FirstName, LastName from Customers\n",
    "\"\"\")\n",
    "for row in cursor:\n",
    "    print(\"Firstname: {:15}\".format(row[0]), end=\" \")\n",
    "    print(\"Lastname: {:15}\".format(row[1]))\n",
    "connection.close()"
   ]
  },
  {
   "cell_type": "code",
   "execution_count": 52,
   "metadata": {},
   "outputs": [
    {
     "name": "stdout",
     "output_type": "stream",
     "text": [
      "Firstname: Leonie          Lastname: Köhler         \n",
      "Firstname: Frank           Lastname: Harris         \n",
      "Firstname: Jack            Lastname: Smith          \n",
      "Firstname: Michelle        Lastname: Brooks         \n",
      "Firstname: Tim             Lastname: Goyer          \n",
      "Firstname: Dan             Lastname: Miller         \n",
      "Firstname: Kathy           Lastname: Chase          \n",
      "Firstname: Heather         Lastname: Leacock        \n",
      "Firstname: John            Lastname: Gordon         \n",
      "Firstname: Frank           Lastname: Ralston        \n",
      "Firstname: Victor          Lastname: Stevens        \n",
      "Firstname: Richard         Lastname: Cunningham     \n",
      "Firstname: Patrick         Lastname: Gray           \n",
      "Firstname: Julia           Lastname: Barnett        \n",
      "Firstname: Hannah          Lastname: Schneider      \n",
      "Firstname: Fynn            Lastname: Zimmermann     \n",
      "Firstname: Niklas          Lastname: Schröder       \n"
     ]
    }
   ],
   "source": [
    "connection = sqlite3.connect(\"chinook.db\")\n",
    "cursor = connection.execute(\"\"\" \n",
    "select FirstName, LastName from Customers where country = \"USA\" or country  like(\"g%\")\n",
    "\"\"\")\n",
    "for row in cursor:\n",
    "    print(\"Firstname: {:15}\".format(row[0]), end=\" \")\n",
    "    print(\"Lastname: {:15}\".format(row[1]))\n",
    "connection.close()"
   ]
  },
  {
   "cell_type": "code",
   "execution_count": null,
   "metadata": {},
   "outputs": [],
   "source": []
  }
 ],
 "metadata": {
  "kernelspec": {
   "display_name": "Python 3.10.5 64-bit",
   "language": "python",
   "name": "python3"
  },
  "language_info": {
   "codemirror_mode": {
    "name": "ipython",
    "version": 3
   },
   "file_extension": ".py",
   "mimetype": "text/x-python",
   "name": "python",
   "nbconvert_exporter": "python",
   "pygments_lexer": "ipython3",
   "version": "3.10.5"
  },
  "orig_nbformat": 4,
  "vscode": {
   "interpreter": {
    "hash": "b885c526da3326e581d3a88563282ab625602807b12d7b4af8a2a7f32a015837"
   }
  }
 },
 "nbformat": 4,
 "nbformat_minor": 2
}
