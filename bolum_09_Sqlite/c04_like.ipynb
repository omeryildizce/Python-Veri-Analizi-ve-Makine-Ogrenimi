{
 "cells": [
  {
   "cell_type": "code",
   "execution_count": 1,
   "metadata": {},
   "outputs": [],
   "source": [
    "import sqlite3"
   ]
  },
  {
   "cell_type": "code",
   "execution_count": 7,
   "metadata": {},
   "outputs": [
    {
     "name": "stdout",
     "output_type": "stream",
     "text": [
      "Firstname: Frank       Lastname: Harris      Lastname: USA\n",
      "Firstname: Jack        Lastname: Smith       Lastname: USA\n",
      "Firstname: Michelle    Lastname: Brooks      Lastname: USA\n",
      "Firstname: Tim         Lastname: Goyer       Lastname: USA\n",
      "Firstname: Dan         Lastname: Miller      Lastname: USA\n",
      "Firstname: Kathy       Lastname: Chase       Lastname: USA\n",
      "Firstname: Heather     Lastname: Leacock     Lastname: USA\n",
      "Firstname: John        Lastname: Gordon      Lastname: USA\n",
      "Firstname: Frank       Lastname: Ralston     Lastname: USA\n",
      "Firstname: Victor      Lastname: Stevens     Lastname: USA\n",
      "Firstname: Richard     Lastname: Cunningham  Lastname: USA\n",
      "Firstname: Patrick     Lastname: Gray        Lastname: USA\n",
      "Firstname: Julia       Lastname: Barnett     Lastname: USA\n",
      "Firstname: Emma        Lastname: Jones       Lastname: United Kingdom\n",
      "Firstname: Phil        Lastname: Hughes      Lastname: United Kingdom\n",
      "Firstname: Steve       Lastname: Murray      Lastname: United Kingdom\n"
     ]
    }
   ],
   "source": [
    "connection = sqlite3.connect(\"chinook.db\")\n",
    "cursor = connection.execute(\"\"\"\n",
    "    select FirstName, LastName,Country from Customers\n",
    "    where Country like \"u%\"\n",
    "    \n",
    "\"\"\")\n",
    "\n",
    "for row in cursor:\n",
    "    print(\"Firstname: {:12}\".format(row[0]) , end=\"\")\n",
    "    print(\"Lastname: {:12}\".format(row[1]), end=\"\")\n",
    "    print(\"Lastname: {}\".format(row[2]))\n",
    "\n",
    "connection.close()"
   ]
  },
  {
   "cell_type": "code",
   "execution_count": 9,
   "metadata": {},
   "outputs": [
    {
     "name": "stdout",
     "output_type": "stream",
     "text": [
      "Firstname: Leonie      Lastname: Köhler      Lastname: Germany\n",
      "Firstname: Bjørn       Lastname: Hansen      Lastname: Norway\n",
      "Firstname: Hannah      Lastname: Schneider   Lastname: Germany\n",
      "Firstname: Fynn        Lastname: Zimmermann  Lastname: Germany\n",
      "Firstname: Niklas      Lastname: Schröder    Lastname: Germany\n",
      "Firstname: Ladislav    Lastname: Kovács      Lastname: Hungary\n",
      "Firstname: Lucas       Lastname: Mancini     Lastname: Italy\n"
     ]
    }
   ],
   "source": [
    "connection = sqlite3.connect(\"chinook.db\")\n",
    "cursor = connection.execute(\"\"\"\n",
    "    select FirstName, LastName,Country from Customers\n",
    "    where Country like \"%y\"\n",
    "    \n",
    "\"\"\")\n",
    "\n",
    "for row in cursor:\n",
    "    print(\"Firstname: {:12}\".format(row[0]) , end=\"\")\n",
    "    print(\"Lastname: {:12}\".format(row[1]), end=\"\")\n",
    "    print(\"Lastname: {}\".format(row[2]))\n",
    "\n",
    "connection.close()"
   ]
  },
  {
   "cell_type": "code",
   "execution_count": 11,
   "metadata": {},
   "outputs": [
    {
     "name": "stdout",
     "output_type": "stream",
     "text": [
      "Firstname: Luís        Lastname: Gonçalves   Lastname: Brazil\n",
      "Firstname: Leonie      Lastname: Köhler      Lastname: Germany\n",
      "Firstname: François    Lastname: Tremblay    Lastname: Canada\n",
      "Firstname: Bjørn       Lastname: Hansen      Lastname: Norway\n",
      "Firstname: Astrid      Lastname: Gruber      Lastname: Austria\n",
      "Firstname: Kara        Lastname: Nielsen     Lastname: Denmark\n",
      "Firstname: Eduardo     Lastname: Martins     Lastname: Brazil\n",
      "Firstname: Alexandre   Lastname: Rocha       Lastname: Brazil\n",
      "Firstname: Roberto     Lastname: Almeida     Lastname: Brazil\n",
      "Firstname: Fernanda    Lastname: Ramos       Lastname: Brazil\n",
      "Firstname: Mark        Lastname: Philips     Lastname: Canada\n",
      "Firstname: Jennifer    Lastname: Peterson    Lastname: Canada\n",
      "Firstname: Frank       Lastname: Harris      Lastname: USA\n",
      "Firstname: Jack        Lastname: Smith       Lastname: USA\n",
      "Firstname: Michelle    Lastname: Brooks      Lastname: USA\n",
      "Firstname: Tim         Lastname: Goyer       Lastname: USA\n",
      "Firstname: Dan         Lastname: Miller      Lastname: USA\n",
      "Firstname: Kathy       Lastname: Chase       Lastname: USA\n",
      "Firstname: Heather     Lastname: Leacock     Lastname: USA\n",
      "Firstname: John        Lastname: Gordon      Lastname: USA\n",
      "Firstname: Frank       Lastname: Ralston     Lastname: USA\n",
      "Firstname: Victor      Lastname: Stevens     Lastname: USA\n",
      "Firstname: Richard     Lastname: Cunningham  Lastname: USA\n",
      "Firstname: Patrick     Lastname: Gray        Lastname: USA\n",
      "Firstname: Julia       Lastname: Barnett     Lastname: USA\n",
      "Firstname: Robert      Lastname: Brown       Lastname: Canada\n",
      "Firstname: Edward      Lastname: Francis     Lastname: Canada\n",
      "Firstname: Martha      Lastname: Silk        Lastname: Canada\n",
      "Firstname: Aaron       Lastname: Mitchell    Lastname: Canada\n",
      "Firstname: Ellie       Lastname: Sullivan    Lastname: Canada\n",
      "Firstname: João        Lastname: Fernandes   Lastname: Portugal\n",
      "Firstname: Madalena    Lastname: Sampaio     Lastname: Portugal\n",
      "Firstname: Hannah      Lastname: Schneider   Lastname: Germany\n",
      "Firstname: Fynn        Lastname: Zimmermann  Lastname: Germany\n",
      "Firstname: Niklas      Lastname: Schröder    Lastname: Germany\n",
      "Firstname: Camille     Lastname: Bernard     Lastname: France\n",
      "Firstname: Dominique   Lastname: Lefebvre    Lastname: France\n",
      "Firstname: Marc        Lastname: Dubois      Lastname: France\n",
      "Firstname: Wyatt       Lastname: Girard      Lastname: France\n",
      "Firstname: Isabelle    Lastname: Mercier     Lastname: France\n",
      "Firstname: Terhi       Lastname: Hämäläinen  Lastname: Finland\n",
      "Firstname: Ladislav    Lastname: Kovács      Lastname: Hungary\n",
      "Firstname: Hugh        Lastname: O'Reilly    Lastname: Ireland\n",
      "Firstname: Lucas       Lastname: Mancini     Lastname: Italy\n",
      "Firstname: Johannes    Lastname: Van der BergLastname: Netherlands\n",
      "Firstname: Stanisław   Lastname: Wójcik      Lastname: Poland\n",
      "Firstname: Enrique     Lastname: Muñoz       Lastname: Spain\n",
      "Firstname: Mark        Lastname: Taylor      Lastname: Australia\n",
      "Firstname: Diego       Lastname: Gutiérrez   Lastname: Argentina\n",
      "Firstname: Manoj       Lastname: Pareek      Lastname: India\n",
      "Firstname: Puja        Lastname: Srivastava  Lastname: India\n"
     ]
    }
   ],
   "source": [
    "connection = sqlite3.connect(\"chinook.db\")\n",
    "cursor = connection.execute(\"\"\"\n",
    "    select FirstName, LastName,Country from Customers\n",
    "    where Country like \"%a%\"\n",
    "    \n",
    "\"\"\")\n",
    "\n",
    "for row in cursor:\n",
    "    print(\"Firstname: {:12}\".format(row[0]) , end=\"\")\n",
    "    print(\"Lastname: {:12}\".format(row[1]), end=\"\")\n",
    "    print(\"Lastname: {}\".format(row[2]))\n",
    "\n",
    "connection.close()"
   ]
  },
  {
   "cell_type": "code",
   "execution_count": null,
   "metadata": {},
   "outputs": [],
   "source": []
  }
 ],
 "metadata": {
  "kernelspec": {
   "display_name": "Python 3.10.5 64-bit",
   "language": "python",
   "name": "python3"
  },
  "language_info": {
   "codemirror_mode": {
    "name": "ipython",
    "version": 3
   },
   "file_extension": ".py",
   "mimetype": "text/x-python",
   "name": "python",
   "nbconvert_exporter": "python",
   "pygments_lexer": "ipython3",
   "version": "3.10.5"
  },
  "orig_nbformat": 4,
  "vscode": {
   "interpreter": {
    "hash": "b885c526da3326e581d3a88563282ab625602807b12d7b4af8a2a7f32a015837"
   }
  }
 },
 "nbformat": 4,
 "nbformat_minor": 2
}
