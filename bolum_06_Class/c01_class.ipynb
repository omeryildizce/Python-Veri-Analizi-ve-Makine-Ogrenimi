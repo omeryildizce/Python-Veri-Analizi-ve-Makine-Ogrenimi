{
 "cells": [
  {
   "cell_type": "markdown",
   "metadata": {},
   "source": [
    "# Class\n",
    "* Ortak özellikleri ve fonsiyonları bir arada tutmamızı sağlar."
   ]
  },
  {
   "cell_type": "code",
   "execution_count": 23,
   "metadata": {},
   "outputs": [],
   "source": [
    "class Matematik:\n",
    "    def toplama(sayi1, sayi2):\n",
    "        return sayi1 + sayi2\n",
    "\n",
    "    def cikarma(sayi1, sayi2):\n",
    "        return sayi1 - sayi2\n",
    "\n",
    "    def carpma(sayi1, sayi2):\n",
    "        return sayi1 * sayi2\n",
    "\n",
    "    def bolme(sayi1, sayi2):\n",
    "        return sayi1 / sayi2\n",
    "    \n",
    "    def topla(*args):\n",
    "        return sum(args)\n"
   ]
  },
  {
   "cell_type": "code",
   "execution_count": 26,
   "metadata": {},
   "outputs": [],
   "source": [
    "islem = Matematik"
   ]
  },
  {
   "cell_type": "code",
   "execution_count": 28,
   "metadata": {},
   "outputs": [
    {
     "data": {
      "text/plain": [
       "25"
      ]
     },
     "execution_count": 28,
     "metadata": {},
     "output_type": "execute_result"
    }
   ],
   "source": [
    "islem.toplama(10, 15)"
   ]
  },
  {
   "cell_type": "code",
   "execution_count": 34,
   "metadata": {},
   "outputs": [
    {
     "data": {
      "text/plain": [
       "20.822"
      ]
     },
     "execution_count": 34,
     "metadata": {},
     "output_type": "execute_result"
    }
   ],
   "source": [
    "islem.topla(1,2,3,4,5, 0.2,0.501,5.121)"
   ]
  },
  {
   "cell_type": "markdown",
   "metadata": {},
   "source": [
    "## self \n",
    "* classı referans olarak gösterir."
   ]
  },
  {
   "cell_type": "code",
   "execution_count": 43,
   "metadata": {},
   "outputs": [],
   "source": [
    "class Matematik:\n",
    "    def toplama(self,sayi1, sayi2):\n",
    "        return sayi1 + sayi2\n",
    "\n",
    "    def cikarma(self,sayi1, sayi2):\n",
    "        return sayi1 - sayi2\n",
    "\n",
    "    def carpma(self,sayi1, sayi2):\n",
    "        return sayi1 * sayi2\n",
    "\n",
    "    def bolme(self,sayi1, sayi2):\n",
    "        return sayi1 / sayi2\n",
    "    \n",
    "    def topla(self,*args):\n",
    "        return sum(args)\n"
   ]
  },
  {
   "cell_type": "code",
   "execution_count": 44,
   "metadata": {},
   "outputs": [],
   "source": [
    "islem = Matematik()"
   ]
  },
  {
   "cell_type": "code",
   "execution_count": 42,
   "metadata": {},
   "outputs": [
    {
     "data": {
      "text/plain": [
       "25"
      ]
     },
     "execution_count": 42,
     "metadata": {},
     "output_type": "execute_result"
    }
   ],
   "source": [
    "islem.toplama(10,15)\n"
   ]
  },
  {
   "cell_type": "code",
   "execution_count": 52,
   "metadata": {},
   "outputs": [],
   "source": [
    "class Matematik:\n",
    "    def __init__(self, sayi1, sayi2):\n",
    "        print(\"Çalıştı\")\n",
    "        self.sayi1 = sayi1\n",
    "        self.sayi2 = sayi2\n",
    "\n",
    "    def toplama(self):\n",
    "        return self.sayi1 + self.sayi2\n",
    "\n",
    "    def cikarma(self):\n",
    "        return self.sayi1 - self.sayi2\n",
    "\n",
    "    def carpma(self):\n",
    "        return self.sayi1 * self.sayi2\n",
    "\n",
    "    def bolme(self):\n",
    "        return self.sayi1 / self.sayi2\n",
    "    \n",
    "    def topla(self,*args):\n",
    "        return sum(args)\n"
   ]
  },
  {
   "cell_type": "code",
   "execution_count": 55,
   "metadata": {},
   "outputs": [
    {
     "name": "stdout",
     "output_type": "stream",
     "text": [
      "Çalıştı\n"
     ]
    }
   ],
   "source": [
    "matematik = Matematik(13, 17)"
   ]
  },
  {
   "cell_type": "code",
   "execution_count": 64,
   "metadata": {},
   "outputs": [
    {
     "data": {
      "text/plain": [
       "30"
      ]
     },
     "execution_count": 64,
     "metadata": {},
     "output_type": "execute_result"
    }
   ],
   "source": [
    "matematik.toplama()"
   ]
  },
  {
   "cell_type": "code",
   "execution_count": 67,
   "metadata": {},
   "outputs": [
    {
     "data": {
      "text/plain": [
       "30"
      ]
     },
     "execution_count": 67,
     "metadata": {},
     "output_type": "execute_result"
    }
   ],
   "source": [
    "matematik.toplama()"
   ]
  },
  {
   "cell_type": "code",
   "execution_count": null,
   "metadata": {},
   "outputs": [],
   "source": []
  }
 ],
 "metadata": {
  "kernelspec": {
   "display_name": "Python 3.10.5 64-bit",
   "language": "python",
   "name": "python3"
  },
  "language_info": {
   "codemirror_mode": {
    "name": "ipython",
    "version": 3
   },
   "file_extension": ".py",
   "mimetype": "text/x-python",
   "name": "python",
   "nbconvert_exporter": "python",
   "pygments_lexer": "ipython3",
   "version": "3.10.5"
  },
  "orig_nbformat": 4,
  "vscode": {
   "interpreter": {
    "hash": "b885c526da3326e581d3a88563282ab625602807b12d7b4af8a2a7f32a015837"
   }
  }
 },
 "nbformat": 4,
 "nbformat_minor": 2
}
