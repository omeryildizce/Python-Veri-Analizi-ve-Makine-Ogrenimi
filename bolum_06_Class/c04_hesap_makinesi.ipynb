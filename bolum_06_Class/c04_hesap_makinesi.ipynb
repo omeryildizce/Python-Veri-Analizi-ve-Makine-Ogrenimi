{
 "cells": [
  {
   "cell_type": "code",
   "execution_count": 14,
   "metadata": {},
   "outputs": [
    {
     "name": "stdout",
     "output_type": "stream",
     "text": [
      "\u001b[31mhello\u001b[0m \u001b[32mworld\u001b[0m\n"
     ]
    }
   ],
   "source": [
    "from termcolor import colored\n",
    "print(colored('hello', 'red'), colored('world', 'green'))"
   ]
  },
  {
   "cell_type": "code",
   "execution_count": 21,
   "metadata": {},
   "outputs": [],
   "source": [
    "class Matematik:\n",
    "    def __init__(self, sayi1, sayi2):\n",
    "        self.sayi1 = sayi1\n",
    "        self.sayi2 = sayi2\n",
    "\n",
    "    def topla(self):\n",
    "        print(colored(\"Toplam : {}\".format(self.sayi1 + self.sayi2), \"green\"))\n",
    "\n",
    "    def cikar(self):\n",
    "        print(colored(\"Fark : {}\".format(self.sayi1 - self.sayi2), \"green\"))\n",
    "\n",
    "    def carp(self):\n",
    "        print(colored(\"Çarpım : {}\".format(self.sayi1 * self.sayi2), \"green\"))\n",
    "\n",
    "    def bol(self):\n",
    "        print(colored(\"Bölüm : {}\".format(self.sayi1 / self.sayi2), \"green\"))\n",
    "\n",
    "\n",
    "def yazdir():\n",
    "    print()\n",
    "    print(\"Operasyon?\")\n",
    "    print(\"1: Topla\")\n",
    "    print(\"2: Çıkar\")\n",
    "    print(\"3: Çarp\")\n",
    "    print(\"4: Böl\")\n",
    "    print(colored((\"q (exit)\"),\"red\"))\n",
    "    print()\n",
    "\n",
    "\n",
    "def sec(secim):\n",
    "\n",
    "    if secim == \"1\":\n",
    "\n",
    "        mat.topla()\n",
    "    elif secim == \"2\":\n",
    "        mat.cikar()\n",
    "\n",
    "    elif secim == \"3\":\n",
    "        mat.carp()\n",
    "\n",
    "    elif secim == \"4\":\n",
    "        mat.bol()\n",
    "    else:\n",
    "        print(\"Hatalı giriş yaptınız.\")\n"
   ]
  },
  {
   "cell_type": "code",
   "execution_count": 22,
   "metadata": {},
   "outputs": [
    {
     "name": "stdout",
     "output_type": "stream",
     "text": [
      "\n",
      "Operasyon?\n",
      "1: Topla\n",
      "2: Çıkar\n",
      "3: Çarp\n",
      "4: Böl\n",
      "\u001b[31mq (exit)\u001b[0m\n",
      "\n",
      "\u001b[32mÇarpım : 624\u001b[0m\n",
      "\n",
      "Operasyon?\n",
      "1: Topla\n",
      "2: Çıkar\n",
      "3: Çarp\n",
      "4: Böl\n",
      "\u001b[31mq (exit)\u001b[0m\n",
      "\n",
      "\u001b[32mBölüm : 0.6842105263157895\u001b[0m\n",
      "\n",
      "Operasyon?\n",
      "1: Topla\n",
      "2: Çıkar\n",
      "3: Çarp\n",
      "4: Böl\n",
      "\u001b[31mq (exit)\u001b[0m\n",
      "\n",
      "\u001b[32mToplam : 42\u001b[0m\n",
      "\n",
      "Operasyon?\n",
      "1: Topla\n",
      "2: Çıkar\n",
      "3: Çarp\n",
      "4: Böl\n",
      "\u001b[31mq (exit)\u001b[0m\n",
      "\n"
     ]
    }
   ],
   "source": [
    "while True:\n",
    "    yazdir()\n",
    "\n",
    "    secim = input()\n",
    "    \n",
    "    if secim == \"q\":\n",
    "        break\n",
    "    else:\n",
    "        sayi1 = int(input(\"Sayı 1\"))\n",
    "        sayi2 = int(input(\"Sayı 2\"))\n",
    "        mat = Matematik(sayi1, sayi2)\n",
    "        sec(secim)\n",
    "# 15,7"
   ]
  },
  {
   "cell_type": "code",
   "execution_count": null,
   "metadata": {},
   "outputs": [],
   "source": []
  }
 ],
 "metadata": {
  "kernelspec": {
   "display_name": "Python 3.10.5 64-bit",
   "language": "python",
   "name": "python3"
  },
  "language_info": {
   "codemirror_mode": {
    "name": "ipython",
    "version": 3
   },
   "file_extension": ".py",
   "mimetype": "text/x-python",
   "name": "python",
   "nbconvert_exporter": "python",
   "pygments_lexer": "ipython3",
   "version": "3.10.5"
  },
  "orig_nbformat": 4,
  "vscode": {
   "interpreter": {
    "hash": "b885c526da3326e581d3a88563282ab625602807b12d7b4af8a2a7f32a015837"
   }
  }
 },
 "nbformat": 4,
 "nbformat_minor": 2
}
