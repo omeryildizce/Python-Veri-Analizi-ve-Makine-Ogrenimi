{
 "cells": [
  {
   "cell_type": "code",
   "execution_count": 10,
   "metadata": {},
   "outputs": [
    {
     "name": "stdout",
     "output_type": "stream",
     "text": [
      "invalid literal for int() with base 10: '5/0'\n"
     ]
    }
   ],
   "source": [
    "try:\n",
    "    sayi = int(input(\"Sayı giriniz.\"))\n",
    "except ValueError as e:\n",
    "    print( e)\n",
    "except:\n",
    "    print(\"Bir hata oluştu\")\n"
   ]
  },
  {
   "cell_type": "code",
   "execution_count": 14,
   "metadata": {},
   "outputs": [],
   "source": [
    "liste = [\"Ömer\",0,3,\"6\"]"
   ]
  },
  {
   "cell_type": "code",
   "execution_count": 15,
   "metadata": {},
   "outputs": [
    {
     "name": "stdout",
     "output_type": "stream",
     "text": [
      "Sayı: Ömer\n"
     ]
    },
    {
     "ename": "ValueError",
     "evalue": "invalid literal for int() with base 10: 'Ömer'",
     "output_type": "error",
     "traceback": [
      "\u001b[1;31m---------------------------------------------------------------------------\u001b[0m",
      "\u001b[1;31mValueError\u001b[0m                                Traceback (most recent call last)",
      "\u001b[1;32mc:\\Users\\OmerYildiz\\Desktop\\Python, Veri Analizi, Makine Öğrenimi\\Python-Veri-Analizi-ve-Makine-Ogrenimi\\bolum_10_Hata\\c01_hata.ipynb Cell 3'\u001b[0m in \u001b[0;36m<cell line: 1>\u001b[1;34m()\u001b[0m\n\u001b[0;32m      <a href='vscode-notebook-cell:/c%3A/Users/OmerYildiz/Desktop/Python%2C%20Veri%20Analizi%2C%20Makine%20%C3%96%C4%9Frenimi/Python-Veri-Analizi-ve-Makine-Ogrenimi/bolum_10_Hata/c01_hata.ipynb#ch0000003?line=0'>1</a>\u001b[0m \u001b[39mfor\u001b[39;00m x \u001b[39min\u001b[39;00m liste:\n\u001b[0;32m      <a href='vscode-notebook-cell:/c%3A/Users/OmerYildiz/Desktop/Python%2C%20Veri%20Analizi%2C%20Makine%20%C3%96%C4%9Frenimi/Python-Veri-Analizi-ve-Makine-Ogrenimi/bolum_10_Hata/c01_hata.ipynb#ch0000003?line=1'>2</a>\u001b[0m     \u001b[39mprint\u001b[39m(\u001b[39m\"\u001b[39m\u001b[39mSayı: \u001b[39m\u001b[39m{}\u001b[39;00m\u001b[39m\"\u001b[39m\u001b[39m.\u001b[39mformat(x))\n\u001b[1;32m----> <a href='vscode-notebook-cell:/c%3A/Users/OmerYildiz/Desktop/Python%2C%20Veri%20Analizi%2C%20Makine%20%C3%96%C4%9Frenimi/Python-Veri-Analizi-ve-Makine-Ogrenimi/bolum_10_Hata/c01_hata.ipynb#ch0000003?line=2'>3</a>\u001b[0m     sonuc \u001b[39m=\u001b[39m \u001b[39m1\u001b[39m \u001b[39m/\u001b[39m \u001b[39mint\u001b[39;49m(x)\n\u001b[0;32m      <a href='vscode-notebook-cell:/c%3A/Users/OmerYildiz/Desktop/Python%2C%20Veri%20Analizi%2C%20Makine%20%C3%96%C4%9Frenimi/Python-Veri-Analizi-ve-Makine-Ogrenimi/bolum_10_Hata/c01_hata.ipynb#ch0000003?line=3'>4</a>\u001b[0m     \u001b[39mprint\u001b[39m(sonuc)\n",
      "\u001b[1;31mValueError\u001b[0m: invalid literal for int() with base 10: 'Ömer'"
     ]
    }
   ],
   "source": [
    "for x in liste:\n",
    "    print(\"Sayı: {}\".format(x))\n",
    "    sonuc = 1 / int(x)\n",
    "    print(sonuc)"
   ]
  },
  {
   "cell_type": "code",
   "execution_count": 22,
   "metadata": {},
   "outputs": [
    {
     "name": "stdout",
     "output_type": "stream",
     "text": [
      "Sayı: Ömer\n",
      "invalid literal for int() with base 10: 'Ömer'\n",
      "İşlemler tamamlandı.\n",
      "Sayı: 0\n",
      "division by zero\n",
      "İşlemler tamamlandı.\n",
      "Sayı: 3\n",
      "0.3333333333333333\n",
      "İşlemler tamamlandı.\n",
      "Sayı: 6\n",
      "0.16666666666666666\n",
      "İşlemler tamamlandı.\n"
     ]
    }
   ],
   "source": [
    "for x in liste:\n",
    "    try:\n",
    "        print(\"Sayı: {}\".format(x))\n",
    "        sonuc = 1 / int(x)\n",
    "        print(sonuc)\n",
    "    except ValueError as value:\n",
    "        print(value)\n",
    "    except ZeroDivisionError as zero:\n",
    "            print(zero)\n",
    "    except:\n",
    "        print(\"Bir hata oluştu:\")\n",
    "    finally:\n",
    "        print(\"İşlemler tamamlandı.\")"
   ]
  },
  {
   "cell_type": "code",
   "execution_count": null,
   "metadata": {},
   "outputs": [],
   "source": []
  }
 ],
 "metadata": {
  "kernelspec": {
   "display_name": "Python 3.10.5 64-bit",
   "language": "python",
   "name": "python3"
  },
  "language_info": {
   "codemirror_mode": {
    "name": "ipython",
    "version": 3
   },
   "file_extension": ".py",
   "mimetype": "text/x-python",
   "name": "python",
   "nbconvert_exporter": "python",
   "pygments_lexer": "ipython3",
   "version": "3.10.5"
  },
  "orig_nbformat": 4,
  "vscode": {
   "interpreter": {
    "hash": "b885c526da3326e581d3a88563282ab625602807b12d7b4af8a2a7f32a015837"
   }
  }
 },
 "nbformat": 4,
 "nbformat_minor": 2
}
