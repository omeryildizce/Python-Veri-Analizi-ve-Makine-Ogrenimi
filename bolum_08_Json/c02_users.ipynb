{
 "cells": [
  {
   "cell_type": "code",
   "execution_count": 2,
   "metadata": {},
   "outputs": [],
   "source": [
    "import json"
   ]
  },
  {
   "cell_type": "code",
   "execution_count": 7,
   "metadata": {},
   "outputs": [
    {
     "name": "stdout",
     "output_type": "stream",
     "text": [
      "{'id': 1, 'name': 'Leanne Graham', 'username': 'Bret', 'email': 'Sincere@april.biz', 'address': {'street': 'Kulas Light', 'suite': 'Apt. 556', 'city': 'Gwenborough', 'zipcode': '92998-3874', 'geo': {'lat': '-37.3159', 'lng': '81.1496'}}, 'phone': '1-770-736-8031 x56442', 'website': 'hildegard.org', 'company': {'name': 'Romaguera-Crona', 'catchPhrase': 'Multi-layered client-server neural-net', 'bs': 'harness real-time e-markets'}}\n"
     ]
    }
   ],
   "source": [
    "with open(\"users.json\", \"r\", encoding=\"utf-8\") as users:\n",
    "    data = json.load(users) \n",
    "    print(data[0] ) \n"
   ]
  },
  {
   "cell_type": "code",
   "execution_count": 8,
   "metadata": {},
   "outputs": [
    {
     "name": "stdout",
     "output_type": "stream",
     "text": [
      "Bret\n",
      "Sincere@april.biz\n"
     ]
    }
   ],
   "source": [
    "with open(\"users.json\", \"r\", encoding=\"utf-8\") as users:\n",
    "    data = json.load(users) \n",
    "    print(data[0][\"username\"])\n",
    "    print(data[0][\"email\"])"
   ]
  },
  {
   "cell_type": "code",
   "execution_count": 12,
   "metadata": {},
   "outputs": [
    {
     "name": "stdout",
     "output_type": "stream",
     "text": [
      "Bret\n",
      "Sincere@april.biz\n",
      "Kulas Light\n",
      "-37.3159\n"
     ]
    }
   ],
   "source": [
    "with open(\"users.json\", \"r\", encoding=\"utf-8\") as users:\n",
    "    data = json.load(users) \n",
    "    print(data[0][\"username\"])\n",
    "    print(data[0][\"email\"])\n",
    "    print(data[0][\"address\"][\"street\"])\n",
    "    print(data[0][\"address\"][\"geo\"][\"lat\"])"
   ]
  },
  {
   "cell_type": "code",
   "execution_count": 14,
   "metadata": {},
   "outputs": [
    {
     "name": "stdout",
     "output_type": "stream",
     "text": [
      "Bret, Sincere@april.biz, Kulas Light, -37.3159, \n",
      "Antonette, Shanna@melissa.tv, Victor Plains, -43.9509, \n",
      "Samantha, Nathan@yesenia.net, Douglas Extension, -68.6102, \n",
      "Karianne, Julianne.OConner@kory.org, Hoeger Mall, 29.4572, \n",
      "Kamren, Lucio_Hettinger@annie.ca, Skiles Walks, -31.8129, \n"
     ]
    }
   ],
   "source": [
    "with open(\"users.json\", \"r\", encoding=\"utf-8\") as users:\n",
    "    data = json.load(users) \n",
    "\n",
    "    for x in range(5):\n",
    "        print(data[x][\"username\"], end=\", \")\n",
    "        print(data[x][\"email\"],end=\", \")\n",
    "        print(data[x][\"address\"][\"street\"],end=\", \")\n",
    "        print(data[x][\"address\"][\"geo\"][\"lat\"],end=\", \")\n",
    "        print()"
   ]
  },
  {
   "cell_type": "code",
   "execution_count": null,
   "metadata": {},
   "outputs": [],
   "source": []
  }
 ],
 "metadata": {
  "kernelspec": {
   "display_name": "Python 3.10.5 64-bit",
   "language": "python",
   "name": "python3"
  },
  "language_info": {
   "codemirror_mode": {
    "name": "ipython",
    "version": 3
   },
   "file_extension": ".py",
   "mimetype": "text/x-python",
   "name": "python",
   "nbconvert_exporter": "python",
   "pygments_lexer": "ipython3",
   "version": "3.10.5"
  },
  "orig_nbformat": 4,
  "vscode": {
   "interpreter": {
    "hash": "b885c526da3326e581d3a88563282ab625602807b12d7b4af8a2a7f32a015837"
   }
  }
 },
 "nbformat": 4,
 "nbformat_minor": 2
}
