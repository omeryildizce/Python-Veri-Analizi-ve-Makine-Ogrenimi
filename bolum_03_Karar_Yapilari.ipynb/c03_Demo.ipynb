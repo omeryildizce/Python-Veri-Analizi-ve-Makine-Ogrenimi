{
 "cells": [
  {
   "cell_type": "markdown",
   "metadata": {},
   "source": [
    "* girilen 3 sayının en büyüğünü bulunuz."
   ]
  },
  {
   "cell_type": "code",
   "execution_count": 7,
   "metadata": {},
   "outputs": [],
   "source": [
    "sayi1 = int(input(\"Sayı 1:\"))\n",
    "sayi2 = int(input(\"Sayı 2:\"))\n",
    "sayi3 = int(input(\"Sayı 3:\"))"
   ]
  },
  {
   "cell_type": "code",
   "execution_count": 9,
   "metadata": {},
   "outputs": [
    {
     "name": "stdout",
     "output_type": "stream",
     "text": [
      "En büyük sayı 2: 30\n"
     ]
    }
   ],
   "source": [
    "if sayi1 > sayi2 and sayi1 > sayi3:\n",
    "    print(\"En büyük sayı 1: {}\".format(sayi1))\n",
    "elif sayi2 > sayi1 and sayi2 > sayi3:\n",
    "    print(\"En büyük sayı 2: {}\".format(sayi2))\n",
    "else :\n",
    "    print(\"En büyük sayı 3: {}\".format(sayi3))"
   ]
  },
  {
   "cell_type": "code",
   "execution_count": null,
   "metadata": {},
   "outputs": [],
   "source": []
  }
 ],
 "metadata": {
  "kernelspec": {
   "display_name": "Python 3.10.5 64-bit",
   "language": "python",
   "name": "python3"
  },
  "language_info": {
   "codemirror_mode": {
    "name": "ipython",
    "version": 3
   },
   "file_extension": ".py",
   "mimetype": "text/x-python",
   "name": "python",
   "nbconvert_exporter": "python",
   "pygments_lexer": "ipython3",
   "version": "3.10.5"
  },
  "orig_nbformat": 4,
  "vscode": {
   "interpreter": {
    "hash": "b885c526da3326e581d3a88563282ab625602807b12d7b4af8a2a7f32a015837"
   }
  }
 },
 "nbformat": 4,
 "nbformat_minor": 2
}
