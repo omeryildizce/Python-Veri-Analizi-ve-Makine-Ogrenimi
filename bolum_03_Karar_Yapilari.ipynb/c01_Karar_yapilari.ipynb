{
 "cells": [
  {
   "cell_type": "markdown",
   "metadata": {},
   "source": [
    "# Karar Yapıları"
   ]
  },
  {
   "cell_type": "code",
   "execution_count": 2,
   "metadata": {},
   "outputs": [
    {
     "name": "stdout",
     "output_type": "stream",
     "text": [
      "Sayı 1 büyüktür.\n"
     ]
    }
   ],
   "source": [
    "sayi1 = 30\n",
    "sayi2 = 20\n",
    "\n",
    "if sayi1 > sayi2:\n",
    "    print(\"Sayı 1 büyüktür.\")\n"
   ]
  },
  {
   "cell_type": "code",
   "execution_count": 6,
   "metadata": {},
   "outputs": [],
   "source": [
    "ligths = [\"red\", \"yellow\", \"green\"]\n"
   ]
  },
  {
   "cell_type": "code",
   "execution_count": 10,
   "metadata": {},
   "outputs": [
    {
     "data": {
      "text/plain": [
       "'yellow'"
      ]
     },
     "execution_count": 10,
     "metadata": {},
     "output_type": "execute_result"
    }
   ],
   "source": [
    "currentLight = ligths[1]\n",
    "currentLight\n"
   ]
  },
  {
   "cell_type": "code",
   "execution_count": 9,
   "metadata": {},
   "outputs": [
    {
     "name": "stdout",
     "output_type": "stream",
     "text": [
      "STOP!\n"
     ]
    }
   ],
   "source": [
    "if currentLight == \"red\":\n",
    "    print(\"STOP!\")\n",
    "\n",
    "if currentLight == \"yellow\":\n",
    "    print(\"READY!\")\n",
    "\n",
    "if currentLight == \"green\":\n",
    "    print(\"GO!\")\n"
   ]
  },
  {
   "cell_type": "code",
   "execution_count": 12,
   "metadata": {},
   "outputs": [
    {
     "name": "stdout",
     "output_type": "stream",
     "text": [
      "READY!\n"
     ]
    }
   ],
   "source": [
    "if currentLight == \"red\":\n",
    "    print(\"STOP!\")\n",
    "\n",
    "elif currentLight == \"yellow\":\n",
    "    print(\"READY!\")\n",
    "\n",
    "elif currentLight == \"green\":\n",
    "    print(\"GO!\")\n",
    "\n",
    "else:\n",
    "    print(\"!!!\")"
   ]
  },
  {
   "cell_type": "code",
   "execution_count": null,
   "metadata": {},
   "outputs": [],
   "source": []
  }
 ],
 "metadata": {
  "kernelspec": {
   "display_name": "Python 3.10.5 64-bit",
   "language": "python",
   "name": "python3"
  },
  "language_info": {
   "codemirror_mode": {
    "name": "ipython",
    "version": 3
   },
   "file_extension": ".py",
   "mimetype": "text/x-python",
   "name": "python",
   "nbconvert_exporter": "python",
   "pygments_lexer": "ipython3",
   "version": "3.10.5"
  },
  "orig_nbformat": 4,
  "vscode": {
   "interpreter": {
    "hash": "b885c526da3326e581d3a88563282ab625602807b12d7b4af8a2a7f32a015837"
   }
  }
 },
 "nbformat": 4,
 "nbformat_minor": 2
}
